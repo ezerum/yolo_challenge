{
 "cells": [
  {
   "cell_type": "code",
   "execution_count": 3,
   "metadata": {},
   "outputs": [],
   "source": [
    "from ultralytics import YOLO\n",
    "import matplotlib.pyplot as plt\n",
    "import os"
   ]
  },
  {
   "cell_type": "code",
   "execution_count": 4,
   "metadata": {},
   "outputs": [
    {
     "name": "stderr",
     "output_type": "stream",
     "text": [
      "Ultralytics YOLOv8.0.187  Python-3.10.9 torch-2.2.2+cpu CPU (11th Gen Intel Core(TM) i5-1135G7 2.40GHz)\n",
      "Model summary (fused): 218 layers, 25840339 parameters, 0 gradients\n",
      "\u001b[34m\u001b[1mval: \u001b[0mScanning C:\\Users\\Computadora\\Documents\\challenge\\yolo_challenge\\dataset\\Yerba_taragui\\valid\\labels.cache... 31 images, 0 backgrounds, 0 corrupt: 100%|██████████| 31/31 [00:00<?, ?it/s]\n",
      "                 Class     Images  Instances      Box(P          R      mAP50  mAP50-95): 100%|██████████| 2/2 [00:30<00:00, 15.22s/it]\n",
      "                   all         31         37          1      0.973      0.985      0.985\n",
      "Speed: 5.0ms preprocess, 944.3ms inference, 0.0ms loss, 1.8ms postprocess per image\n",
      "Results saved to \u001b[1mC:\\Users\\Computadora\\Documents\\challenge\\yolo_challenge\\runs\\detect\\val2\u001b[0m\n"
     ]
    }
   ],
   "source": [
    "# Load a model\n",
    "model = YOLO('trained/yerba_v2.pt')  # load a custom model \n",
    "data=os.path.join(\n",
    "                os.getcwd(),\n",
    "                \"dataset/Yerba_taragui\",\n",
    "                \"data.yaml\",\n",
    ")\n",
    "# Validate the model\n",
    "metrics = model.val(data=data, \n",
    "                    imgsz=640, \n",
    "                    conf=0.4, \n",
    "                    iou=0.5, \n",
    "                    plots=True, \n",
    "                    max_det=300, \n",
    "                    save_hybrid=True,\n",
    "                    )  # no arguments needed, dataset and settings remembered\n"
   ]
  },
  {
   "cell_type": "code",
   "execution_count": 5,
   "metadata": {},
   "outputs": [
    {
     "name": "stdout",
     "output_type": "stream",
     "text": [
      "0.9845142857142857\n",
      "0.9845142857142858\n",
      "0.9845142857142858\n"
     ]
    }
   ],
   "source": [
    "print(metrics.box.map)   # map50-95\n",
    "print(metrics.box.map50)  # map50\n",
    "print(metrics.box.map75) # map75\n"
   ]
  },
  {
   "cell_type": "code",
   "execution_count": 6,
   "metadata": {},
   "outputs": [],
   "source": [
    "metrics.confusion_matrix.plot()"
   ]
  }
 ],
 "metadata": {
  "kernelspec": {
   "display_name": "trainyolo",
   "language": "python",
   "name": "python3"
  },
  "language_info": {
   "codemirror_mode": {
    "name": "ipython",
    "version": 3
   },
   "file_extension": ".py",
   "mimetype": "text/x-python",
   "name": "python",
   "nbconvert_exporter": "python",
   "pygments_lexer": "ipython3",
   "version": "3.10.9"
  }
 },
 "nbformat": 4,
 "nbformat_minor": 2
}
